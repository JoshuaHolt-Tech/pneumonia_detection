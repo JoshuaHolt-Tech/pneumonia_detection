{
 "cells": [
  {
   "cell_type": "markdown",
   "id": "3768119b-0de0-40e0-b359-92ed68344047",
   "metadata": {},
   "source": [
    "This notebook does not prep the data. Train/val/test split is very unbalanced. \n",
    "\n",
    "Checking origional data from: https://data.mendeley.com/datasets/rscbjbr9sj/2"
   ]
  },
  {
   "cell_type": "code",
   "execution_count": 1,
   "id": "a587fe03-f297-4dc7-bd0a-89573bba46b4",
   "metadata": {},
   "outputs": [],
   "source": [
    "#Imports\n",
    "import numpy as np\n",
    "import pandas as pd\n",
    "import os\n",
    "import shutil\n",
    "import glob\n",
    "import itertools\n",
    "import random\n",
    "import matplotlib.pyplot as plt\n",
    "import warnings\n",
    "import tensorflow as tf\n",
    "from tensorflow import keras\n",
    "from keras.callbacks import EarlyStopping\n",
    "from keras.regularizers import l2\n",
    "from tensorflow.keras.models import Sequential\n",
    "from tensorflow.keras.layers import *\n",
    "from tensorflow.keras.optimizers import Adam\n",
    "from tensorflow.keras.metrics import categorical_crossentropy\n",
    "from tensorflow.keras.preprocessing.image import ImageDataGenerator\n",
    "import keras_tuner\n",
    "from keras_tuner import RandomSearch, GridSearch\n",
    "from sklearn.metrics import confusion_matrix, classification_report\n",
    "from PIL import Image"
   ]
  },
  {
   "cell_type": "code",
   "execution_count": 2,
   "id": "c75128bf-a270-4863-a201-b634f1194dcc",
   "metadata": {},
   "outputs": [],
   "source": [
    "#Preferences\n",
    "warnings.simplefilter(action=\"ignore\", category=FutureWarning)\n",
    "%matplotlib inline"
   ]
  },
  {
   "cell_type": "code",
   "execution_count": 3,
   "id": "e434f0eb-a204-46ee-b521-5f8da55b6e4c",
   "metadata": {},
   "outputs": [],
   "source": [
    "save_model = True\n",
    "save_weights = True"
   ]
  },
  {
   "cell_type": "code",
   "execution_count": 4,
   "id": "93012a98-c3f5-4e8a-8369-e6f7c57f6504",
   "metadata": {},
   "outputs": [],
   "source": [
    "#Path variables\n",
    "train_path = \"data/train/\"\n",
    "val_path = \"data/val/\"\n",
    "test_path = \"data/test/\""
   ]
  },
  {
   "cell_type": "code",
   "execution_count": 5,
   "id": "c413d5ed-c2f0-4f1f-936a-e71097e9ecff",
   "metadata": {},
   "outputs": [],
   "source": [
    "path_list = [train_path, val_path, test_path]"
   ]
  },
  {
   "cell_type": "code",
   "execution_count": 6,
   "id": "af6d8fe5-5883-43b2-a833-9ae12b6624cd",
   "metadata": {},
   "outputs": [],
   "source": [
    "datagen = ImageDataGenerator(rescale=1./255)"
   ]
  },
  {
   "cell_type": "code",
   "execution_count": 7,
   "id": "be5edfba-2de7-4a37-8f9f-a0efa2076794",
   "metadata": {},
   "outputs": [
    {
     "name": "stdout",
     "output_type": "stream",
     "text": [
      "Found 4877 images belonging to 3 classes.\n"
     ]
    }
   ],
   "source": [
    "train_generator = datagen.flow_from_directory(directory=train_path,\n",
    "                                              target_size=(256,256),\n",
    "                                              batch_size=16,\n",
    "                                              color_mode=\"grayscale\",\n",
    "                                              classes=[\"NORMAL\", \"viral_pneumonia\", \"bacterial_pneumonia\"],\n",
    "                                              save_format=\"jpeg\")"
   ]
  },
  {
   "cell_type": "code",
   "execution_count": 8,
   "id": "3ba090c0-a5ad-4cca-9205-35ad7d1aec56",
   "metadata": {},
   "outputs": [
    {
     "name": "stdout",
     "output_type": "stream",
     "text": [
      "Found 355 images belonging to 3 classes.\n"
     ]
    }
   ],
   "source": [
    "val_generator = datagen.flow_from_directory(directory=val_path,\n",
    "                                            target_size=(256,256),\n",
    "                                            batch_size=16,\n",
    "                                            color_mode=\"grayscale\",\n",
    "                                            classes=[\"NORMAL\", \"viral_pneumonia\", \"bacterial_pneumonia\"],\n",
    "                                            save_format=\"jpeg\")"
   ]
  },
  {
   "cell_type": "code",
   "execution_count": 9,
   "id": "49a9c183-e3ac-437b-b67e-2ceb434dae24",
   "metadata": {},
   "outputs": [
    {
     "name": "stdout",
     "output_type": "stream",
     "text": [
      "Found 624 images belonging to 3 classes.\n"
     ]
    }
   ],
   "source": [
    "test_generator = datagen.flow_from_directory(directory=test_path,\n",
    "                                             target_size=(256,256),\n",
    "                                             batch_size=16,\n",
    "                                             color_mode=\"grayscale\",\n",
    "                                             classes=[\"NORMAL\", \"viral_pneumonia\", \"bacterial_pneumonia\"],\n",
    "                                             save_format=\"jpeg\",\n",
    "                                             shuffle=False)"
   ]
  },
  {
   "cell_type": "code",
   "execution_count": 10,
   "id": "cce71a7b-4f7d-4c08-9ad0-c1bbfde1cd8f",
   "metadata": {},
   "outputs": [],
   "source": [
    "img, labels = next(train_generator)"
   ]
  },
  {
   "cell_type": "code",
   "execution_count": 11,
   "id": "a9453870-c71b-4040-9865-74a030054f35",
   "metadata": {},
   "outputs": [
    {
     "ename": "SyntaxError",
     "evalue": "'(' was never closed (1961154190.py, line 24)",
     "output_type": "error",
     "traceback": [
      "\u001b[0;36m  Cell \u001b[0;32mIn[11], line 24\u001b[0;36m\u001b[0m\n\u001b[0;31m    model.add(Dense(units=hp.Int(\"dense_1_units\",\u001b[0m\n\u001b[0m             ^\u001b[0m\n\u001b[0;31mSyntaxError\u001b[0m\u001b[0;31m:\u001b[0m '(' was never closed\n"
     ]
    }
   ],
   "source": [
    "def build_model(hp):\n",
    "    \"\"\"\n",
    "    Building a model to optimize hypter parameters.\n",
    "    \"\"\"\n",
    "    model = Sequential()\n",
    "    model.add(Conv2D(filters=hp.Int(\"conv_1_filter\",\n",
    "                                    min_value=8,\n",
    "                                    max_value=256,\n",
    "                                    step=16),\n",
    "                     kernel_size=hp.Choice(\"conv_1_kernel\", values = [3,5]),\n",
    "                     activation=\"relu\",\n",
    "                     input_shape=(256,256,1)))\n",
    "    model.add(MaxPool2D(pool_size=2))\n",
    "    model.add(Dropout(hp.Float(\"dropout_1\", min_value=0.0,max_value=0.8, step=0.1)))\n",
    "    model.add(Conv2D(filters=hp.Int(\"conv_2_filter\",\n",
    "                                    min_value=16,\n",
    "                                    max_value=256,\n",
    "                                    step=16),\n",
    "                     kernel_size=hp.Choice(\"conv_2_kernel\", values = [3,5]),\n",
    "                     activation=\"relu\"))\n",
    "    model.add(MaxPool2D(pool_size=2))\n",
    "    model.add(Dropout(hp.Float(\"dropout_2\", min_value=0.0,max_value=0.8, step=0.1)))\n",
    "    model.add(Flatten())\n",
    "    model.add(Dense(units=hp.Int(\"dense_1_units\",\n",
    "                                 min_value=16,\n",
    "                                 max_value=256,\n",
    "                                 step=16),\n",
    "                    activation=\"relu\", kernel_regularizer=l2(hp.Float(\"l2_value\", min_value=1e-5, max_value=1e-2, sampling=\"LOG\"))))\n",
    "    model.add(Dropout(hp.Float(\"dropout_1\", min_value=0.0,max_value=0.8, step=0.1)))\n",
    "    model.add(Dense(units=3, activation=\"softmax\"))\n",
    "    model.compile(optimizer=Adam(hp.Choice(\"learning_rate\", values=[1e-2, 1e-3])),\n",
    "                  loss=\"categorical_crossentropy\",\n",
    "                  metrics=[\"accuracy\", tf.keras.metrics.Recall()])\n",
    "\n",
    "    return model"
   ]
  },
  {
   "cell_type": "code",
   "execution_count": null,
   "id": "56fa304c-ffc3-4477-9b35-75c031d00463",
   "metadata": {},
   "outputs": [],
   "source": [
    "earlystop = EarlyStopping(monitor=\"val_loss\", patience = 3)"
   ]
  },
  {
   "cell_type": "code",
   "execution_count": null,
   "id": "0d5beaa4-bc01-4a16-9129-b873f3d43932",
   "metadata": {},
   "outputs": [],
   "source": [
    "tuner_search = GridSearch(build_model,\n",
    "                          objective=\"val_accuracy\",\n",
    "                          max_trials=20,\n",
    "                          executions_per_trial=3,\n",
    "                          directory=\"output\",\n",
    "                          project_name=\"ChestXrayPneumoniaAccuracy6\")"
   ]
  },
  {
   "cell_type": "code",
   "execution_count": null,
   "id": "6282dd42-ea84-470a-8a52-f824af70b4e1",
   "metadata": {},
   "outputs": [],
   "source": [
    "tuner_search.search(train_generator, epochs=3, validation_data=val_generator)"
   ]
  },
  {
   "cell_type": "code",
   "execution_count": null,
   "id": "de5d2791-5265-4aee-9396-a0860759ccb8",
   "metadata": {},
   "outputs": [],
   "source": [
    "tuner_search.search_space_summary()"
   ]
  },
  {
   "cell_type": "code",
   "execution_count": null,
   "id": "cf8c7148-83ea-43cd-9e3e-7a77fc96fbc9",
   "metadata": {},
   "outputs": [],
   "source": [
    "tuner_search.results_summary()"
   ]
  },
  {
   "cell_type": "code",
   "execution_count": null,
   "id": "8d4c9732-b0f8-4001-8a3c-963dbc068283",
   "metadata": {},
   "outputs": [],
   "source": [
    "model = tuner_search.get_best_models(num_models=1)[0]"
   ]
  },
  {
   "cell_type": "code",
   "execution_count": null,
   "id": "3e9630e4-dd87-43d8-9b40-d39fe161eba1",
   "metadata": {},
   "outputs": [],
   "source": [
    "model.summary()"
   ]
  },
  {
   "cell_type": "code",
   "execution_count": null,
   "id": "b091b900-4cad-4fa9-8cc4-655e7910e607",
   "metadata": {},
   "outputs": [],
   "source": [
    "model.fit(train_generator, epochs=10, validation_data=val_generator, callbacks=[earlystop])"
   ]
  },
  {
   "cell_type": "markdown",
   "id": "9d2ef0c6-a306-48e4-876c-e8596bfa9525",
   "metadata": {},
   "source": [
    "### Make a prediction"
   ]
  },
  {
   "cell_type": "code",
   "execution_count": null,
   "id": "7fb47bef-9945-4908-a012-3f2cfbbe7f31",
   "metadata": {},
   "outputs": [],
   "source": [
    "#Plot function\n",
    "def plotImages(images_arr):\n",
    "    \"\"\"\n",
    "    Plots images in a gird.\n",
    "    \"\"\"\n",
    "    fig, axes, = plt.subplots(1, 10, figsize=(20,20))\n",
    "    axes = axes.flatten()\n",
    "    for img, ax in zip(images_arr, axes):\n",
    "        ax.imshow(img, cmap='gray')\n",
    "        ax.axis(\"off\")\n",
    "    plt.tight_layout()\n",
    "    plt.show()"
   ]
  },
  {
   "cell_type": "code",
   "execution_count": null,
   "id": "90fc7fde-d2cc-48d6-9fca-b3805f86ad2c",
   "metadata": {},
   "outputs": [],
   "source": [
    "test_imgs, test_labels = next(test_generator)\n",
    "plotImages(test_imgs)\n",
    "print(test_labels)"
   ]
  },
  {
   "cell_type": "code",
   "execution_count": null,
   "id": "13739bc0-1b8f-4e36-909d-bf47644e5daa",
   "metadata": {},
   "outputs": [],
   "source": [
    "predictions = model.predict(x=test_generator, verbose=0)"
   ]
  },
  {
   "cell_type": "code",
   "execution_count": null,
   "id": "43def967-e3a9-46f1-b8ee-49b0b64b73db",
   "metadata": {},
   "outputs": [],
   "source": [
    "cm = confusion_matrix(y_true=test_generator.classes, y_pred=np.argmax(predictions, axis=-1))"
   ]
  },
  {
   "cell_type": "code",
   "execution_count": null,
   "id": "a4353396-c445-4a73-9dad-dd12960e7a9d",
   "metadata": {},
   "outputs": [],
   "source": [
    "#Confusion matrix plot function from TensorFlows website\n",
    "def plot_confusion_matrix(cm, classes, normalize=False, title=\"Confusion Matrix\", cmap=plt.cm.Blues):\n",
    "    \"\"\"\n",
    "    A function to plot results in a confusion matrix.\n",
    "    \"\"\"\n",
    "    plt.imshow(cm, interpolation=\"nearest\", cmap=cmap)\n",
    "    plt.title(title)\n",
    "    plt.colorbar()\n",
    "    tick_marks = np.arange(len(classes))\n",
    "    plt.xticks(tick_marks, classes, rotation=45)\n",
    "    plt.yticks(tick_marks, classes)\n",
    "\n",
    "    if normalize:\n",
    "        cm = cm.astype(\"float\") / cm.sum(axis=1)[:, np.newaxis]\n",
    "        print(\"Normalized confusion matrix\")\n",
    "    else:\n",
    "        print(\"Confusion matrix, without normalization\")\n",
    "\n",
    "    print(cm)\n",
    "\n",
    "    thresh = cm.max() / 2.\n",
    "    for i, j in itertools.product(range(cm.shape[0]), range(cm.shape[1])):\n",
    "        plt.text(j, i, cm[i,j], horizontalalignment=\"center\", color = \"white\" if cm[i,j] > thresh else \"black\")\n",
    "\n",
    "    plt.tight_layout()\n",
    "    plt.ylabel(\"True label\")\n",
    "    plt.xlabel(\"Predicted label\")"
   ]
  },
  {
   "cell_type": "code",
   "execution_count": null,
   "id": "0ee22042-2a0b-496d-b47a-c79590ccb271",
   "metadata": {},
   "outputs": [],
   "source": [
    "cm_plot_labels = [\"Normal\",\"viral_pneumonia\", \"bacterial_pneumonia\"]\n",
    "plot_confusion_matrix(cm=cm, classes=cm_plot_labels, title = \"Confusion Matrix\")"
   ]
  },
  {
   "cell_type": "code",
   "execution_count": null,
   "id": "08dc270a-cbd4-4828-948d-bf56310c1d33",
   "metadata": {},
   "outputs": [],
   "source": [
    "#Saving the model\n",
    "if save_model == True:\n",
    "    model.save(\"models/pneumonia_detection.h5\")\n",
    "    \n",
    "if save_weights == True:\n",
    "    model.save_weights(\"models/pneumonia_detection_weights.h5\")"
   ]
  },
  {
   "cell_type": "code",
   "execution_count": null,
   "id": "5d78977c-eed3-464a-9fb1-5247877c0496",
   "metadata": {},
   "outputs": [],
   "source": [
    "confusion_matrix(y_true=test_generator.classes, y_pred=np.argmax(predictions, axis=-1), normalize=\"all\")"
   ]
  },
  {
   "cell_type": "code",
   "execution_count": null,
   "id": "836b480e-0930-4aea-b28a-4fefb87a8ae2",
   "metadata": {},
   "outputs": [],
   "source": [
    "from sklearn.metrics import classification_report"
   ]
  },
  {
   "cell_type": "code",
   "execution_count": null,
   "id": "d66976be-8226-443a-9916-687551afd8c2",
   "metadata": {},
   "outputs": [],
   "source": [
    "print(classification_report(y_true=test_generator.classes, y_pred=np.argmax(predictions, axis=-1), target_names = cm_plot_labels))"
   ]
  },
  {
   "cell_type": "code",
   "execution_count": null,
   "id": "eae53560-0bd2-4c70-bead-29895f7c3480",
   "metadata": {},
   "outputs": [],
   "source": []
  }
 ],
 "metadata": {
  "kernelspec": {
   "display_name": "Python 3 (ipykernel)",
   "language": "python",
   "name": "python3"
  },
  "language_info": {
   "codemirror_mode": {
    "name": "ipython",
    "version": 3
   },
   "file_extension": ".py",
   "mimetype": "text/x-python",
   "name": "python",
   "nbconvert_exporter": "python",
   "pygments_lexer": "ipython3",
   "version": "3.10.4"
  }
 },
 "nbformat": 4,
 "nbformat_minor": 5
}
