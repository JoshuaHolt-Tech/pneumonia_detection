{
 "cells": [
  {
   "cell_type": "code",
   "execution_count": 1,
   "id": "edf16522-4b4f-4649-ae6a-aac5ce06d0ce",
   "metadata": {},
   "outputs": [],
   "source": [
    "from wrangle import *"
   ]
  },
  {
   "cell_type": "code",
   "execution_count": 2,
   "id": "fb0a10f8-10d5-47cc-b0d7-50ce94ed22fa",
   "metadata": {},
   "outputs": [
    {
     "name": "stdout",
     "output_type": "stream",
     "text": [
      "Starting download...\n",
      "Download Complete\n",
      "Extracting content\n",
      "Extraction complete\n"
     ]
    }
   ],
   "source": [
    "if not os.path.exists(\"data/chest_xray\"):\n",
    "    acquire_data()"
   ]
  },
  {
   "cell_type": "code",
   "execution_count": 3,
   "id": "e7f242e4-4eff-4543-b730-84d3560be6d4",
   "metadata": {},
   "outputs": [],
   "source": [
    "if not os.path.exists(\"data/train\"):\n",
    "    prepare_data()"
   ]
  }
 ],
 "metadata": {
  "kernelspec": {
   "display_name": "Python 3 (ipykernel)",
   "language": "python",
   "name": "python3"
  },
  "language_info": {
   "codemirror_mode": {
    "name": "ipython",
    "version": 3
   },
   "file_extension": ".py",
   "mimetype": "text/x-python",
   "name": "python",
   "nbconvert_exporter": "python",
   "pygments_lexer": "ipython3",
   "version": "3.10.9"
  }
 },
 "nbformat": 4,
 "nbformat_minor": 5
}
