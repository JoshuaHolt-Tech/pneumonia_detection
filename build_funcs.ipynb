{
 "cells": [
  {
   "cell_type": "code",
   "execution_count": 1,
   "id": "fde6bd82-0e83-4c4f-b1c9-a2599b9620cf",
   "metadata": {},
   "outputs": [],
   "source": [
    "#Imports\n",
    "import os, warnings, requests, zipfile, shutil\n",
    "from zipfile import ZipFile\n",
    "from io import BytesIO\n",
    "import re"
   ]
  },
  {
   "cell_type": "code",
   "execution_count": 2,
   "id": "c6dbd549-78aa-4770-80f3-a134dd66f079",
   "metadata": {},
   "outputs": [],
   "source": [
    "#Preferences\n",
    "warnings.simplefilter(action=\"ignore\", category=FutureWarning)"
   ]
  },
  {
   "cell_type": "markdown",
   "id": "90730fe3-c216-4e68-b17c-6511aaf503b8",
   "metadata": {},
   "source": [
    "### Prepare Data"
   ]
  },
  {
   "cell_type": "markdown",
   "id": "3d638584-5db6-4bb2-a0fe-fa0967ad2bb9",
   "metadata": {},
   "source": [
    "#### Goal is to get a balanced set of images between train, val and test folders\n",
    "\n",
    "- Identify how many are duplicate images.\n",
    "- Ensure integrity of test set.\n",
    "- Good split ratios"
   ]
  },
  {
   "cell_type": "code",
   "execution_count": 3,
   "id": "ea49282d-6fc9-483c-a90d-8e1cc9be4c45",
   "metadata": {},
   "outputs": [],
   "source": [
    "#If you would like to automatically prepare the data, set prepare_data = True\n",
    "prepare_data = False"
   ]
  },
  {
   "cell_type": "code",
   "execution_count": 4,
   "id": "30994ae6-7369-48d5-a604-2649af5d4248",
   "metadata": {},
   "outputs": [],
   "source": [
    "train_norm_path = \"data/chest_xray/train/NORMAL/\"\n",
    "train_pneu_path = \"data/chest_xray/train/PNEUMONIA/\"\n",
    "test_norm_path = \"data/chest_xray/test/NORMAL/\"\n",
    "test_pneu_path = \"data/chest_xray/test/PNEUMONIA/\""
   ]
  },
  {
   "cell_type": "code",
   "execution_count": 5,
   "id": "93012a98-c3f5-4e8a-8369-e6f7c57f6504",
   "metadata": {},
   "outputs": [],
   "source": [
    "#Path variables\n",
    "train_path = \"data/train/\"\n",
    "val_path = \"data/val/\"\n",
    "test_path = \"data/test/\""
   ]
  },
  {
   "cell_type": "code",
   "execution_count": 6,
   "id": "6a582587-abfc-4aff-ba14-a72d5ea3a308",
   "metadata": {},
   "outputs": [],
   "source": [
    "old_path_list = [train_norm_path, train_pneu_path, test_norm_path, test_pneu_path]"
   ]
  },
  {
   "cell_type": "code",
   "execution_count": 7,
   "id": "c413d5ed-c2f0-4f1f-936a-e71097e9ecff",
   "metadata": {},
   "outputs": [],
   "source": [
    "new_path_list = [train_path, val_path, test_path]"
   ]
  },
  {
   "cell_type": "code",
   "execution_count": 8,
   "id": "6d7cd120-0698-4b3b-afe1-e11070ae280b",
   "metadata": {},
   "outputs": [
    {
     "data": {
      "text/plain": [
       "'\\nif prepare_data == True:\\n    #Builds file directory\\n    for path in path_list:\\n        if not os.path.exists(path):\\n            os.makedirs(path)\\n            os.makedirs(os.path.join(path, \"viral_pneumonia\"))\\n            os.makedirs(os.path.join(path, \"bacterial_pneumonia\"))\\n            os.makedirs(os.path.join(path, \"normal\"))\\n\\n\\n'"
      ]
     },
     "execution_count": 8,
     "metadata": {},
     "output_type": "execute_result"
    }
   ],
   "source": [
    "# Under construction\n",
    "\"\"\"\n",
    "if prepare_data == True:\n",
    "    #Builds file directory\n",
    "    for path in path_list:\n",
    "        if not os.path.exists(path):\n",
    "            os.makedirs(path)\n",
    "            os.makedirs(os.path.join(path, \"viral_pneumonia\"))\n",
    "            os.makedirs(os.path.join(path, \"bacterial_pneumonia\"))\n",
    "            os.makedirs(os.path.join(path, \"normal\"))\n",
    "\n",
    "\n",
    "\"\"\""
   ]
  },
  {
   "cell_type": "code",
   "execution_count": 9,
   "id": "6f736522-3bf0-4c0d-9def-cd3d15411b8e",
   "metadata": {},
   "outputs": [],
   "source": [
    "image_files = []\n",
    "for image_dir in old_path_list:\n",
    "    for file in os.listdir(image_dir):\n",
    "        if file.endswith(\".jpeg\"):\n",
    "            image_files.append(f\"{image_dir + file}\")"
   ]
  },
  {
   "cell_type": "code",
   "execution_count": 10,
   "id": "023a10c6-1b5e-4e85-a33c-493466df8f00",
   "metadata": {},
   "outputs": [
    {
     "name": "stdout",
     "output_type": "stream",
     "text": [
      "5856\n"
     ]
    }
   ],
   "source": [
    "print(len(image_files))"
   ]
  },
  {
   "cell_type": "code",
   "execution_count": 11,
   "id": "cbe4ffe5-c019-4eee-a016-3e33725874b7",
   "metadata": {},
   "outputs": [],
   "source": [
    "norm_files = []\n",
    "for file in os.listdir(old_path_list[2]):\n",
    "    if file.endswith(\".jpeg\"):\n",
    "        norm_files.append(f\"{old_path_list[0] + file}\")"
   ]
  },
  {
   "cell_type": "code",
   "execution_count": 12,
   "id": "9970a037-777b-42f3-b177-eed2746bf47f",
   "metadata": {},
   "outputs": [
    {
     "name": "stdout",
     "output_type": "stream",
     "text": [
      "234\n"
     ]
    }
   ],
   "source": [
    "print(len(norm_files))"
   ]
  },
  {
   "cell_type": "code",
   "execution_count": 13,
   "id": "897524f0-2258-4136-920a-306d2759315d",
   "metadata": {},
   "outputs": [],
   "source": [
    "p_files = []\n",
    "for file in os.listdir(old_path_list[3]):\n",
    "    if file.endswith(\".jpeg\"):\n",
    "        p_files.append(f\"{old_path_list[1] + file}\")"
   ]
  },
  {
   "cell_type": "code",
   "execution_count": 14,
   "id": "2b6b80bd-728c-4043-97c3-81a86fc4d7db",
   "metadata": {},
   "outputs": [
    {
     "name": "stdout",
     "output_type": "stream",
     "text": [
      "390\n"
     ]
    }
   ],
   "source": [
    "print(len(p_files))"
   ]
  },
  {
   "cell_type": "code",
   "execution_count": 17,
   "id": "f791952b-732d-4711-9ced-5353ea314e83",
   "metadata": {},
   "outputs": [
    {
     "data": {
      "text/plain": [
       "'\\n\\nfor path in path_list:\\n    viral_pneumonia_dir = os.path.join(path, \"viral_pneumonia\")\\n    bacterial_pneumonia_dir = os.path.join(path, \"bacterial_pneumonia\")\\n    if os.path.exists(viral_pneumonia_dir) and os.path.exists(bacterial_pneumonia_dir):\\n        pass\\n    else:\\n        os.mkdir(viral_pneumonia_dir)\\n        os.mkdir(bacterial_pneumonia_dir)\\n        pneumonia_dir = os.path.join(path, \"PNEUMONIA\")\\n        for file_name in os.listdir(pneumonia_dir):\\n            if file_name.endswith(\".jpeg\"):\\n                file_path = os.path.join(pneumonia_dir, file_name)\\n                img = Image.open(file_path)\\n                if (file_name.find(\"virus\") == (-1)) and (file_name.find(\"bacteria\") == (-1)):\\n                    pass\\n                elif file_name.find(\"virus\") != (-1):\\n                    destination_folder = viral_pneumonia_dir\\n                elif file_name.find(\"bacteria\") != (-1):\\n                    destination_folder = bacterial_pneumonia_dir\\n\\n                shutil.copy(file_path, destination_folder)\\n                img.close()\\n\\n'"
      ]
     },
     "execution_count": 17,
     "metadata": {},
     "output_type": "execute_result"
    }
   ],
   "source": [
    "\"\"\"\n",
    "\n",
    "for path in path_list:\n",
    "    viral_pneumonia_dir = os.path.join(path, \"viral_pneumonia\")\n",
    "    bacterial_pneumonia_dir = os.path.join(path, \"bacterial_pneumonia\")\n",
    "    if os.path.exists(viral_pneumonia_dir) and os.path.exists(bacterial_pneumonia_dir):\n",
    "        pass\n",
    "    else:\n",
    "        os.mkdir(viral_pneumonia_dir)\n",
    "        os.mkdir(bacterial_pneumonia_dir)\n",
    "        pneumonia_dir = os.path.join(path, \"PNEUMONIA\")\n",
    "        for file_name in os.listdir(pneumonia_dir):\n",
    "            if file_name.endswith(\".jpeg\"):\n",
    "                file_path = os.path.join(pneumonia_dir, file_name)\n",
    "                img = Image.open(file_path)\n",
    "                if (file_name.find(\"virus\") == (-1)) and (file_name.find(\"bacteria\") == (-1)):\n",
    "                    pass\n",
    "                elif file_name.find(\"virus\") != (-1):\n",
    "                    destination_folder = viral_pneumonia_dir\n",
    "                elif file_name.find(\"bacteria\") != (-1):\n",
    "                    destination_folder = bacterial_pneumonia_dir\n",
    "\n",
    "                shutil.copy(file_path, destination_folder)\n",
    "                img.close()\n",
    "\n",
    "\"\"\""
   ]
  },
  {
   "cell_type": "code",
   "execution_count": 18,
   "id": "ad14731d-722e-41f7-b429-83d8602a1c3d",
   "metadata": {},
   "outputs": [],
   "source": [
    "def extract_id(filename):\n",
    "    match = re.search(r'\\/([A-Za-z0-9-_]+)\\.jpeg$', filename)\n",
    "    if match is not None:\n",
    "        return match.group(1)\n",
    "    return None"
   ]
  },
  {
   "cell_type": "code",
   "execution_count": 19,
   "id": "064befbc-6f0c-4f8e-b12d-698ad3417c43",
   "metadata": {},
   "outputs": [],
   "source": [
    "def check_overlaps(image_files):\n",
    "    train_ids = set()\n",
    "    test_ids = set()\n",
    "\n",
    "    for file in image_files:\n",
    "        id = extract_id(file)\n",
    "        if id is not None:\n",
    "            if \"/train/\" in file:\n",
    "                train_ids.add(id)\n",
    "            elif \"/test/\" in file:\n",
    "                test_ids.add(id)\n",
    "\n",
    "    overlap_ids = train_ids.intersection(test_ids)\n",
    "\n",
    "    return overlap_ids"
   ]
  },
  {
   "cell_type": "code",
   "execution_count": 20,
   "id": "6b0f4038-03d2-4652-a71b-73e175a0b7db",
   "metadata": {},
   "outputs": [
    {
     "name": "stdout",
     "output_type": "stream",
     "text": [
      "No overlaps found between training and test sets.\n"
     ]
    }
   ],
   "source": [
    "overlap_ids = check_overlaps(image_files)\n",
    "\n",
    "if overlap_ids:\n",
    "    print(\"Overlapping IDs found between training and test sets:\", overlap_ids)\n",
    "else:\n",
    "    print(\"No overlaps found between training and test sets.\")"
   ]
  }
 ],
 "metadata": {
  "kernelspec": {
   "display_name": "Python 3 (ipykernel)",
   "language": "python",
   "name": "python3"
  },
  "language_info": {
   "codemirror_mode": {
    "name": "ipython",
    "version": 3
   },
   "file_extension": ".py",
   "mimetype": "text/x-python",
   "name": "python",
   "nbconvert_exporter": "python",
   "pygments_lexer": "ipython3",
   "version": "3.10.9"
  }
 },
 "nbformat": 4,
 "nbformat_minor": 5
}
