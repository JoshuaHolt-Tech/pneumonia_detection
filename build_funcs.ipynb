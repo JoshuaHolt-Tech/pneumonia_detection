{
 "cells": [
  {
   "cell_type": "code",
   "execution_count": 14,
   "id": "fde6bd82-0e83-4c4f-b1c9-a2599b9620cf",
   "metadata": {},
   "outputs": [],
   "source": [
    "#Imports\n",
    "import os, warnings, requests, zipfile, shutil\n",
    "from zipfile import ZipFile\n",
    "from io import BytesIO"
   ]
  },
  {
   "cell_type": "code",
   "execution_count": 2,
   "id": "c6dbd549-78aa-4770-80f3-a134dd66f079",
   "metadata": {},
   "outputs": [],
   "source": [
    "#Preferences\n",
    "warnings.simplefilter(action=\"ignore\", category=FutureWarning)"
   ]
  },
  {
   "cell_type": "markdown",
   "id": "90730fe3-c216-4e68-b17c-6511aaf503b8",
   "metadata": {},
   "source": [
    "### Prepare Data"
   ]
  },
  {
   "cell_type": "markdown",
   "id": "3d638584-5db6-4bb2-a0fe-fa0967ad2bb9",
   "metadata": {},
   "source": [
    "#### Goal is to get a balanced set of images between train, val and test folders\n",
    "\n",
    "- Identify how many are duplicate images.\n",
    "- Ensure integrity of test set.\n",
    "- Good split ratios"
   ]
  },
  {
   "cell_type": "code",
   "execution_count": null,
   "id": "ea49282d-6fc9-483c-a90d-8e1cc9be4c45",
   "metadata": {},
   "outputs": [],
   "source": [
    "#If you would like to automatically prepare the data, set prepare_data = True\n",
    "prepare_data = False"
   ]
  },
  {
   "cell_type": "code",
   "execution_count": 4,
   "id": "93012a98-c3f5-4e8a-8369-e6f7c57f6504",
   "metadata": {},
   "outputs": [],
   "source": [
    "#Path variables\n",
    "train_path = \"data/train/\"\n",
    "val_path = \"data/val/\"\n",
    "test_path = \"data/test/\""
   ]
  },
  {
   "cell_type": "code",
   "execution_count": 5,
   "id": "c413d5ed-c2f0-4f1f-936a-e71097e9ecff",
   "metadata": {},
   "outputs": [],
   "source": [
    "path_list = [train_path, val_path, test_path]"
   ]
  },
  {
   "cell_type": "code",
   "execution_count": null,
   "id": "6d7cd120-0698-4b3b-afe1-e11070ae280b",
   "metadata": {},
   "outputs": [],
   "source": [
    "# Under construction\n",
    "\"\"\"\n",
    "if prepare_data == True:\n",
    "    #Builds file directory\n",
    "    for path in path_list:\n",
    "        if not os.path.exists(path):\n",
    "            os.makedirs(path)\n",
    "            os.makedirs(os.path.join(path, \"viral_pneumonia\"))\n",
    "            os.makedirs(os.path.join(path, \"bacterial_pneumonia\"))\n",
    "            os.makedirs(os.path.join(path, \"normal\"))\n",
    "\n",
    "\n",
    "\"\"\""
   ]
  },
  {
   "cell_type": "code",
   "execution_count": 6,
   "id": "f791952b-732d-4711-9ced-5353ea314e83",
   "metadata": {},
   "outputs": [],
   "source": [
    "for path in path_list:\n",
    "    viral_pneumonia_dir = os.path.join(path, \"viral_pneumonia\")\n",
    "    bacterial_pneumonia_dir = os.path.join(path, \"bacterial_pneumonia\")\n",
    "    if os.path.exists(viral_pneumonia_dir) and os.path.exists(bacterial_pneumonia_dir):\n",
    "        pass\n",
    "    else:\n",
    "        os.mkdir(viral_pneumonia_dir)\n",
    "        os.mkdir(bacterial_pneumonia_dir)\n",
    "        pneumonia_dir = os.path.join(path, \"PNEUMONIA\")\n",
    "        for file_name in os.listdir(pneumonia_dir):\n",
    "            if file_name.endswith(\".jpeg\"):\n",
    "                file_path = os.path.join(pneumonia_dir, file_name)\n",
    "                img = Image.open(file_path)\n",
    "                if (file_name.find(\"virus\") == (-1)) and (file_name.find(\"bacteria\") == (-1)):\n",
    "                    pass\n",
    "                elif file_name.find(\"virus\") != (-1):\n",
    "                    destination_folder = viral_pneumonia_dir\n",
    "                elif file_name.find(\"bacteria\") != (-1):\n",
    "                    destination_folder = bacterial_pneumonia_dir\n",
    "\n",
    "                shutil.copy(file_path, destination_folder)\n",
    "                img.close()"
   ]
  }
 ],
 "metadata": {
  "kernelspec": {
   "display_name": "Python 3 (ipykernel)",
   "language": "python",
   "name": "python3"
  },
  "language_info": {
   "codemirror_mode": {
    "name": "ipython",
    "version": 3
   },
   "file_extension": ".py",
   "mimetype": "text/x-python",
   "name": "python",
   "nbconvert_exporter": "python",
   "pygments_lexer": "ipython3",
   "version": "3.10.9"
  }
 },
 "nbformat": 4,
 "nbformat_minor": 5
}
