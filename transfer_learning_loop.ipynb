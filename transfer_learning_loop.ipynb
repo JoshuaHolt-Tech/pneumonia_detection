{
 "cells": [
  {
   "cell_type": "markdown",
   "id": "3768119b-0de0-40e0-b359-92ed68344047",
   "metadata": {},
   "source": [
    "This notebook does not prep the data. Train/val/test split is very unbalanced."
   ]
  },
  {
   "cell_type": "markdown",
   "id": "c6e2c12e-eaab-4e1e-9fcd-da5d14a87242",
   "metadata": {},
   "source": [
    "## Task: Prior to starting, transfer function to a python file so they can be imported and take up less real estate."
   ]
  },
  {
   "cell_type": "code",
   "execution_count": 1,
   "id": "a587fe03-f297-4dc7-bd0a-89573bba46b4",
   "metadata": {},
   "outputs": [
    {
     "name": "stderr",
     "output_type": "stream",
     "text": [
      "C:\\ProgramData\\miniconda3\\envs\\tf\\lib\\site-packages\\tensorflow\\python\\framework\\dtypes.py:516: FutureWarning: Passing (type, 1) or '1type' as a synonym of type is deprecated; in a future version of numpy, it will be understood as (type, (1,)) / '(1,)type'.\n",
      "  _np_qint8 = np.dtype([(\"qint8\", np.int8, 1)])\n",
      "C:\\ProgramData\\miniconda3\\envs\\tf\\lib\\site-packages\\tensorflow\\python\\framework\\dtypes.py:517: FutureWarning: Passing (type, 1) or '1type' as a synonym of type is deprecated; in a future version of numpy, it will be understood as (type, (1,)) / '(1,)type'.\n",
      "  _np_quint8 = np.dtype([(\"quint8\", np.uint8, 1)])\n",
      "C:\\ProgramData\\miniconda3\\envs\\tf\\lib\\site-packages\\tensorflow\\python\\framework\\dtypes.py:518: FutureWarning: Passing (type, 1) or '1type' as a synonym of type is deprecated; in a future version of numpy, it will be understood as (type, (1,)) / '(1,)type'.\n",
      "  _np_qint16 = np.dtype([(\"qint16\", np.int16, 1)])\n",
      "C:\\ProgramData\\miniconda3\\envs\\tf\\lib\\site-packages\\tensorflow\\python\\framework\\dtypes.py:519: FutureWarning: Passing (type, 1) or '1type' as a synonym of type is deprecated; in a future version of numpy, it will be understood as (type, (1,)) / '(1,)type'.\n",
      "  _np_quint16 = np.dtype([(\"quint16\", np.uint16, 1)])\n",
      "C:\\ProgramData\\miniconda3\\envs\\tf\\lib\\site-packages\\tensorflow\\python\\framework\\dtypes.py:520: FutureWarning: Passing (type, 1) or '1type' as a synonym of type is deprecated; in a future version of numpy, it will be understood as (type, (1,)) / '(1,)type'.\n",
      "  _np_qint32 = np.dtype([(\"qint32\", np.int32, 1)])\n",
      "C:\\ProgramData\\miniconda3\\envs\\tf\\lib\\site-packages\\tensorflow\\python\\framework\\dtypes.py:525: FutureWarning: Passing (type, 1) or '1type' as a synonym of type is deprecated; in a future version of numpy, it will be understood as (type, (1,)) / '(1,)type'.\n",
      "  np_resource = np.dtype([(\"resource\", np.ubyte, 1)])\n"
     ]
    },
    {
     "name": "stdout",
     "output_type": "stream",
     "text": [
      "WARNING:tensorflow:From C:\\Users\\joshu\\AppData\\Local\\Temp\\ipykernel_12084\\2944599547.py:15: The name tf.keras.layers.CuDNNGRU is deprecated. Please use tf.compat.v1.keras.layers.CuDNNGRU instead.\n",
      "\n",
      "WARNING:tensorflow:From C:\\Users\\joshu\\AppData\\Local\\Temp\\ipykernel_12084\\2944599547.py:15: The name tf.keras.layers.CuDNNLSTM is deprecated. Please use tf.compat.v1.keras.layers.CuDNNLSTM instead.\n",
      "\n"
     ]
    },
    {
     "name": "stderr",
     "output_type": "stream",
     "text": [
      "C:\\ProgramData\\miniconda3\\envs\\tf\\lib\\site-packages\\tensorboard\\compat\\tensorflow_stub\\dtypes.py:541: FutureWarning: Passing (type, 1) or '1type' as a synonym of type is deprecated; in a future version of numpy, it will be understood as (type, (1,)) / '(1,)type'.\n",
      "  _np_qint8 = np.dtype([(\"qint8\", np.int8, 1)])\n",
      "C:\\ProgramData\\miniconda3\\envs\\tf\\lib\\site-packages\\tensorboard\\compat\\tensorflow_stub\\dtypes.py:542: FutureWarning: Passing (type, 1) or '1type' as a synonym of type is deprecated; in a future version of numpy, it will be understood as (type, (1,)) / '(1,)type'.\n",
      "  _np_quint8 = np.dtype([(\"quint8\", np.uint8, 1)])\n",
      "C:\\ProgramData\\miniconda3\\envs\\tf\\lib\\site-packages\\tensorboard\\compat\\tensorflow_stub\\dtypes.py:543: FutureWarning: Passing (type, 1) or '1type' as a synonym of type is deprecated; in a future version of numpy, it will be understood as (type, (1,)) / '(1,)type'.\n",
      "  _np_qint16 = np.dtype([(\"qint16\", np.int16, 1)])\n",
      "C:\\ProgramData\\miniconda3\\envs\\tf\\lib\\site-packages\\tensorboard\\compat\\tensorflow_stub\\dtypes.py:544: FutureWarning: Passing (type, 1) or '1type' as a synonym of type is deprecated; in a future version of numpy, it will be understood as (type, (1,)) / '(1,)type'.\n",
      "  _np_quint16 = np.dtype([(\"quint16\", np.uint16, 1)])\n",
      "C:\\ProgramData\\miniconda3\\envs\\tf\\lib\\site-packages\\tensorboard\\compat\\tensorflow_stub\\dtypes.py:545: FutureWarning: Passing (type, 1) or '1type' as a synonym of type is deprecated; in a future version of numpy, it will be understood as (type, (1,)) / '(1,)type'.\n",
      "  _np_qint32 = np.dtype([(\"qint32\", np.int32, 1)])\n",
      "C:\\ProgramData\\miniconda3\\envs\\tf\\lib\\site-packages\\tensorboard\\compat\\tensorflow_stub\\dtypes.py:550: FutureWarning: Passing (type, 1) or '1type' as a synonym of type is deprecated; in a future version of numpy, it will be understood as (type, (1,)) / '(1,)type'.\n",
      "  np_resource = np.dtype([(\"resource\", np.ubyte, 1)])\n"
     ]
    }
   ],
   "source": [
    "#Imports\n",
    "import numpy as np\n",
    "import pandas as pd\n",
    "import os\n",
    "import shutil\n",
    "import glob\n",
    "import itertools\n",
    "import random\n",
    "import matplotlib.pyplot as plt\n",
    "import warnings\n",
    "import tensorflow as tf\n",
    "from tensorflow import keras\n",
    "from tensorflow.keras.callbacks import EarlyStopping\n",
    "from tensorflow.keras.models import Sequential\n",
    "from tensorflow.keras.layers import *\n",
    "from tensorflow.keras.optimizers import Adam\n",
    "from tensorflow.keras.metrics import categorical_crossentropy\n",
    "from tensorflow.keras.preprocessing.image import ImageDataGenerator\n",
    "import keras_tuner\n",
    "from keras_tuner import RandomSearch, GridSearch\n",
    "from sklearn.metrics import confusion_matrix, accuracy_score\n",
    "from PIL import Image"
   ]
  },
  {
   "cell_type": "code",
   "execution_count": 2,
   "id": "c75128bf-a270-4863-a201-b634f1194dcc",
   "metadata": {},
   "outputs": [],
   "source": [
    "#Preferences\n",
    "warnings.simplefilter(action=\"ignore\", category=FutureWarning)\n",
    "%matplotlib inline"
   ]
  },
  {
   "cell_type": "code",
   "execution_count": 3,
   "id": "93012a98-c3f5-4e8a-8369-e6f7c57f6504",
   "metadata": {},
   "outputs": [],
   "source": [
    "#Path variables\n",
    "train_path = \"data/train/\"\n",
    "val_path = \"data/val/\"\n",
    "test_path = \"data/test/\""
   ]
  },
  {
   "cell_type": "code",
   "execution_count": 4,
   "id": "c413d5ed-c2f0-4f1f-936a-e71097e9ecff",
   "metadata": {},
   "outputs": [],
   "source": [
    "path_list = [train_path, val_path, test_path]"
   ]
  },
  {
   "cell_type": "code",
   "execution_count": 5,
   "id": "af6d8fe5-5883-43b2-a833-9ae12b6624cd",
   "metadata": {},
   "outputs": [],
   "source": [
    "datagen = ImageDataGenerator(rescale=1./255)"
   ]
  },
  {
   "cell_type": "code",
   "execution_count": 6,
   "id": "be5edfba-2de7-4a37-8f9f-a0efa2076794",
   "metadata": {},
   "outputs": [
    {
     "name": "stdout",
     "output_type": "stream",
     "text": [
      "Found 4332 images belonging to 3 classes.\n"
     ]
    }
   ],
   "source": [
    "train_generator = datagen.flow_from_directory(directory=train_path,\n",
    "                                              target_size=(256,256),\n",
    "                                              batch_size=16,\n",
    "                                              color_mode=\"rgb\",\n",
    "                                              classes=[\"NORMAL\", \"viral_pneumonia\", \"bacterial_pneumonia\"],\n",
    "                                              save_format=\"jpeg\")"
   ]
  },
  {
   "cell_type": "code",
   "execution_count": 7,
   "id": "3ba090c0-a5ad-4cca-9205-35ad7d1aec56",
   "metadata": {},
   "outputs": [
    {
     "name": "stdout",
     "output_type": "stream",
     "text": [
      "Found 900 images belonging to 3 classes.\n"
     ]
    }
   ],
   "source": [
    "val_generator = datagen.flow_from_directory(directory=val_path,\n",
    "                                            target_size=(256,256),\n",
    "                                            batch_size=16,\n",
    "                                            color_mode=\"rgb\",\n",
    "                                            classes=[\"NORMAL\", \"viral_pneumonia\", \"bacterial_pneumonia\"],\n",
    "                                            save_format=\"jpeg\")"
   ]
  },
  {
   "cell_type": "code",
   "execution_count": 8,
   "id": "49a9c183-e3ac-437b-b67e-2ceb434dae24",
   "metadata": {},
   "outputs": [
    {
     "name": "stdout",
     "output_type": "stream",
     "text": [
      "Found 624 images belonging to 3 classes.\n"
     ]
    }
   ],
   "source": [
    "test_generator = datagen.flow_from_directory(directory=test_path,\n",
    "                                             target_size=(256,256),\n",
    "                                             batch_size=16,\n",
    "                                             color_mode=\"rgb\",\n",
    "                                             classes=[\"NORMAL\", \"viral_pneumonia\", \"bacterial_pneumonia\"],\n",
    "                                             save_format=\"jpeg\",\n",
    "                                             shuffle=False)"
   ]
  },
  {
   "cell_type": "markdown",
   "id": "d91c67e5-58ff-4b30-ac67-1ffe4ac3dd28",
   "metadata": {},
   "source": [
    "### Transfer learning"
   ]
  },
  {
   "cell_type": "code",
   "execution_count": 9,
   "id": "e0a62464-c387-4be8-ab66-b148148c3521",
   "metadata": {},
   "outputs": [],
   "source": [
    "earlystop = EarlyStopping(monitor=\"val_loss\", patience = 4)"
   ]
  },
  {
   "cell_type": "code",
   "execution_count": 15,
   "id": "564504b2-02f3-4e62-9de4-c4a5308679ca",
   "metadata": {},
   "outputs": [],
   "source": [
    "list_of_models = [\"DenseNet121\", \"DenseNet169\", \"DenseNet201\", \"InceptionResNetV2\", \"InceptionV3\", \"MobileNet\", \"MobileNetV2\", \"ResNet50\", \"VGG16\", \"VGG19\", \"Xception\"]"
   ]
  },
  {
   "cell_type": "code",
   "execution_count": 16,
   "id": "4ceaa0bb-72b7-4c32-ade0-ef251aad8d9b",
   "metadata": {
    "tags": []
   },
   "outputs": [],
   "source": [
    "#inception_resnet_v2 and inception_v3 threw an error so I'm trying the rest\n",
    "shorter_list = [\"VGG16\", \"VGG19\", \"Xception\"]"
   ]
  },
  {
   "cell_type": "code",
   "execution_count": 12,
   "id": "314ffadf-4b84-4b41-a124-bf62f5e54408",
   "metadata": {
    "tags": []
   },
   "outputs": [],
   "source": [
    "train_generator.reset()\n",
    "val_generator.reset()\n",
    "test_generator.reset()"
   ]
  },
  {
   "cell_type": "code",
   "execution_count": 13,
   "id": "192f7824-8b2b-4aaa-b3c6-a6a445b7c031",
   "metadata": {},
   "outputs": [],
   "source": [
    "model_metrics = []"
   ]
  },
  {
   "cell_type": "code",
   "execution_count": null,
   "id": "7dad7eca-7b00-45fd-affb-3c5e4593deeb",
   "metadata": {},
   "outputs": [
    {
     "name": "stdout",
     "output_type": "stream",
     "text": [
      "Downloading data from https://github.com/fchollet/deep-learning-models/releases/download/v0.1/vgg16_weights_tf_dim_ordering_tf_kernels_notop.h5\n",
      "58892288/58889256 [==============================] - 1s 0us/step\n",
      "Epoch 1/10\n",
      " 76/271 [=======>......................] - ETA: 19:57 - loss: 1.0185 - categorical_accuracy: 0.4844"
     ]
    }
   ],
   "source": [
    "for app_model in list_of_models:\n",
    "    base_model = getattr(keras.applications, app_model)(\n",
    "    weights=\"imagenet\",\n",
    "    input_shape=(256,256,3),\n",
    "    include_top=False)\n",
    "    \n",
    "    base_model.trainable = False\n",
    "    \n",
    "    inputs = keras.Input(shape=(256,256,3))\n",
    "    x = base_model(inputs, training=False)\n",
    "    x = keras.layers.GlobalAveragePooling2D()(x)\n",
    "    outputs = keras.layers.Dense(3)(x)\n",
    "    model = keras.Model(inputs, outputs)\n",
    "    \n",
    "    model.compile(optimizer=keras.optimizers.Adam(),\n",
    "                  loss=keras.losses.CategoricalCrossentropy(from_logits=True),\n",
    "                  metrics=[keras.metrics.CategoricalAccuracy()])\n",
    "\n",
    "    history = model.fit(train_generator, epochs=10, validation_data=val_generator)\n",
    "    \n",
    "    model_accuracy = history.history[\"categorical_accuracy\"]\n",
    "    model_val_accuracy = history.history[\"val_categorical_accuracy\"]\n",
    "    predictions = model.predict(x=test_generator, verbose=0)\n",
    "    temp_dict = {\"model\":app_model,\n",
    "                 \"train_acc\":model_accuracy,\n",
    "                 \"val_acc\":model_val_accuracy,\n",
    "                 \"test_preds\": predictions}\n",
    "    model_metrics.append(temp_dict)\n",
    "    \n",
    "    train_generator.reset()\n",
    "    val_generator.reset()\n",
    "    test_generator.reset()"
   ]
  },
  {
   "cell_type": "code",
   "execution_count": null,
   "id": "c12ec426-b216-4521-a85e-aa46d99cb6a4",
   "metadata": {},
   "outputs": [],
   "source": [
    "def plot_model_metrics(model_metrics, test_generator):\n",
    "    plt.figure(figsize=(15, 8))\n",
    "    \n",
    "    for data in model_metrics:\n",
    "        plt.plot(data[\"train_acc\"], label=f'{data[\"model\"]} Train Acc')\n",
    "        plt.plot(data[\"val_acc\"], label=f'{data[\"model\"]} Val Acc')\n",
    "        \n",
    "        # Compute test accuracy using the predictions\n",
    "        y_pred = np.argmax(data[\"test_preds\"], axis=1)\n",
    "        y_true = test_generator.classes\n",
    "        test_acc = accuracy_score(y_true, y_pred)\n",
    "        print(f\"{data['model']} Test Accuracy: {test_acc * 100:.2f}%\")\n",
    "        \n",
    "    plt.title('Model Accuracy')\n",
    "    plt.ylabel('Accuracy')\n",
    "    plt.xlabel('Epoch')\n",
    "    plt.legend(loc='upper left')\n",
    "    plt.grid(True)\n",
    "    plt.tight_layout()\n",
    "    plt.show()"
   ]
  },
  {
   "cell_type": "code",
   "execution_count": null,
   "id": "8f7acaee-fe45-40bb-8a43-7ff01f775979",
   "metadata": {
    "tags": []
   },
   "outputs": [],
   "source": [
    "for item in model_metrics:\n",
    "    plot_model_metrics(item, test_generator)"
   ]
  },
  {
   "cell_type": "code",
   "execution_count": null,
   "id": "7c913145-915a-411d-9217-3de4520280ce",
   "metadata": {},
   "outputs": [],
   "source": []
  }
 ],
 "metadata": {
  "kernelspec": {
   "display_name": "Python 3 (ipykernel)",
   "language": "python",
   "name": "python3"
  },
  "language_info": {
   "codemirror_mode": {
    "name": "ipython",
    "version": 3
   },
   "file_extension": ".py",
   "mimetype": "text/x-python",
   "name": "python",
   "nbconvert_exporter": "python",
   "pygments_lexer": "ipython3",
   "version": "3.7.12"
  }
 },
 "nbformat": 4,
 "nbformat_minor": 5
}
