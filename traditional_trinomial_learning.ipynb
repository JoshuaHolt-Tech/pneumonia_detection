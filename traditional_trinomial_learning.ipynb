{
 "cells": [
  {
   "cell_type": "markdown",
   "id": "3768119b-0de0-40e0-b359-92ed68344047",
   "metadata": {},
   "source": [
    "Checking origional data from: https://data.mendeley.com/datasets/rscbjbr9sj/2"
   ]
  },
  {
   "cell_type": "code",
   "execution_count": 1,
   "id": "a587fe03-f297-4dc7-bd0a-89573bba46b4",
   "metadata": {},
   "outputs": [],
   "source": [
    "#Imports\n",
    "from wrangle import *\n",
    "import numpy as np\n",
    "import pandas as pd\n",
    "import os, shutil, glob, itertools, random\n",
    "import matplotlib.pyplot as plt\n",
    "import warnings\n",
    "import tensorflow as tf\n",
    "from tensorflow import keras\n",
    "from tensorflow.keras import backend as K\n",
    "from tensorflow.keras.callbacks import EarlyStopping\n",
    "from tensorflow.keras.regularizers import l2\n",
    "from tensorflow.keras.models import Sequential\n",
    "from tensorflow.keras.layers import *\n",
    "from tensorflow.keras.optimizers import Adam\n",
    "from tensorflow.keras.metrics import categorical_crossentropy, F1Score\n",
    "from tensorflow.keras.preprocessing.image import ImageDataGenerator\n",
    "import keras_tuner\n",
    "from keras_tuner import RandomSearch, GridSearch, BayesianOptimization, Objective\n",
    "from sklearn.metrics import confusion_matrix, classification_report\n",
    "from PIL import Image"
   ]
  },
  {
   "cell_type": "code",
   "execution_count": 2,
   "id": "c75128bf-a270-4863-a201-b634f1194dcc",
   "metadata": {},
   "outputs": [],
   "source": [
    "#Preferences\n",
    "warnings.simplefilter(action=\"ignore\", category=FutureWarning)\n",
    "%matplotlib inline"
   ]
  },
  {
   "cell_type": "code",
   "execution_count": 3,
   "id": "fad25839-b29f-4e0d-be0c-2cb8eb7cc6e5",
   "metadata": {},
   "outputs": [],
   "source": [
    "if not os.path.exists(\"data/chest_xray\"):\n",
    "    acquire_data()"
   ]
  },
  {
   "cell_type": "code",
   "execution_count": 4,
   "id": "654d0058-84ad-43a9-8688-fd7218fe07d8",
   "metadata": {},
   "outputs": [],
   "source": [
    "if not os.path.exists(\"data/chest_xray/val\"):\n",
    "    prepare_data()"
   ]
  },
  {
   "cell_type": "code",
   "execution_count": 5,
   "id": "e434f0eb-a204-46ee-b521-5f8da55b6e4c",
   "metadata": {},
   "outputs": [],
   "source": [
    "save_model = True\n",
    "save_weights = True"
   ]
  },
  {
   "cell_type": "code",
   "execution_count": 6,
   "id": "93012a98-c3f5-4e8a-8369-e6f7c57f6504",
   "metadata": {},
   "outputs": [],
   "source": [
    "#Path variables\n",
    "train_path = \"data/train/\"\n",
    "val_path = \"data/val/\"\n",
    "test_path = \"data/test/\""
   ]
  },
  {
   "cell_type": "code",
   "execution_count": 7,
   "id": "c413d5ed-c2f0-4f1f-936a-e71097e9ecff",
   "metadata": {},
   "outputs": [],
   "source": [
    "path_list = [train_path, val_path, test_path]"
   ]
  },
  {
   "cell_type": "code",
   "execution_count": 8,
   "id": "af6d8fe5-5883-43b2-a833-9ae12b6624cd",
   "metadata": {},
   "outputs": [],
   "source": [
    "datagen = ImageDataGenerator(rescale=1./255)"
   ]
  },
  {
   "cell_type": "code",
   "execution_count": 9,
   "id": "be5edfba-2de7-4a37-8f9f-a0efa2076794",
   "metadata": {},
   "outputs": [
    {
     "name": "stdout",
     "output_type": "stream",
     "text": [
      "Found 4332 images belonging to 3 classes.\n"
     ]
    }
   ],
   "source": [
    "train_generator = datagen.flow_from_directory(directory= train_path,\n",
    "                                              target_size=(256,256),\n",
    "                                              batch_size=16,\n",
    "                                              color_mode=\"grayscale\",\n",
    "                                              classes=[\"normal\", \"viral_pneumonia\", \"bacterial_pneumonia\"],\n",
    "                                              save_format=\"jpeg\")"
   ]
  },
  {
   "cell_type": "code",
   "execution_count": 10,
   "id": "3ba090c0-a5ad-4cca-9205-35ad7d1aec56",
   "metadata": {},
   "outputs": [
    {
     "name": "stdout",
     "output_type": "stream",
     "text": [
      "Found 900 images belonging to 3 classes.\n"
     ]
    }
   ],
   "source": [
    "val_generator = datagen.flow_from_directory(directory=val_path,\n",
    "                                            target_size=(256,256),\n",
    "                                            batch_size=16,\n",
    "                                            color_mode=\"grayscale\",\n",
    "                                            classes=[\"normal\", \"viral_pneumonia\", \"bacterial_pneumonia\"],\n",
    "                                            save_format=\"jpeg\")"
   ]
  },
  {
   "cell_type": "code",
   "execution_count": 11,
   "id": "49a9c183-e3ac-437b-b67e-2ceb434dae24",
   "metadata": {},
   "outputs": [
    {
     "name": "stdout",
     "output_type": "stream",
     "text": [
      "Found 624 images belonging to 3 classes.\n"
     ]
    }
   ],
   "source": [
    "test_generator = datagen.flow_from_directory(directory=test_path,\n",
    "                                             target_size=(256,256),\n",
    "                                             batch_size=16,\n",
    "                                             color_mode=\"grayscale\",\n",
    "                                             classes=[\"normal\", \"viral_pneumonia\", \"bacterial_pneumonia\"],\n",
    "                                             save_format=\"jpeg\",\n",
    "                                             shuffle=False)"
   ]
  },
  {
   "cell_type": "code",
   "execution_count": 12,
   "id": "cce71a7b-4f7d-4c08-9ad0-c1bbfde1cd8f",
   "metadata": {},
   "outputs": [],
   "source": [
    "img, labels = next(train_generator)"
   ]
  },
  {
   "cell_type": "code",
   "execution_count": 13,
   "id": "e240174a-52b5-427a-ab16-d0fd667c812d",
   "metadata": {},
   "outputs": [],
   "source": [
    "def f1_score(y_true, y_pred):\n",
    "    \"\"\"\n",
    "    #TN = Predicted normal and were normal - 113\n",
    "    #TP = Predicted pneumonia and were pneumonia - 382\n",
    "    #FN = Predicted normal and were pneumonia - 8\n",
    "    #FP = Predicted pneumonia and were normal - 121\n",
    "\n",
    "    Precision = TP / (TP + FP)\n",
    "    Recall = TP / (TP + FN)\n",
    "    F1 Score = 2 * (Precision * Recall) / (Precision + Recall)\n",
    "    \"\"\"\n",
    "    \n",
    "    true_positives = K.sum(K.round(K.clip(y_true * y_pred, 0, 1)))\n",
    "    possible_positives = K.sum(K.round(K.clip(y_true, 0, 1)))\n",
    "    predicted_positives = K.sum(K.round(K.clip(y_pred, 0, 1)))\n",
    "    precision = true_positives / (predicted_positives + K.epsilon())\n",
    "    recall = true_positives / (possible_positives + K.epsilon())\n",
    "    f1_val = 2 * (precision * recall) / (precision + recall + K.epsilon())\n",
    "    return f1_val"
   ]
  },
  {
   "cell_type": "code",
   "execution_count": 14,
   "id": "a9453870-c71b-4040-9865-74a030054f35",
   "metadata": {},
   "outputs": [],
   "source": [
    "def build_model(hp):\n",
    "    \"\"\"\n",
    "    Building a model to optimize hypter parameters.\n",
    "    \"\"\"\n",
    "    model = Sequential()\n",
    "    model.add(Conv2D(filters=hp.Int(\"conv_1_filter\",\n",
    "                                    min_value=8,\n",
    "                                    max_value=128,\n",
    "                                    step=16),\n",
    "                     kernel_size=hp.Choice(\"conv_1_kernel\", values = [3,5]),\n",
    "                     activation=\"relu\",\n",
    "                     input_shape=(256,256,1)))\n",
    "    model.add(MaxPool2D(pool_size=2))\n",
    "    model.add(Conv2D(filters=hp.Int(\"conv_2_filter\",\n",
    "                                    min_value=8,\n",
    "                                    max_value=128,\n",
    "                                    step=16),\n",
    "                     kernel_size=hp.Choice(\"conv_2_kernel\", values = [3,5]),\n",
    "                     activation=\"relu\"))\n",
    "    model.add(MaxPool2D(pool_size=2))\n",
    "    model.add(Conv2D(filters=hp.Int(\"conv_3_filter\",\n",
    "                                    min_value=8,\n",
    "                                    max_value=128,\n",
    "                                    step=16),\n",
    "                     kernel_size=hp.Choice(\"conv_3_kernel\", values = [3,5]),\n",
    "                     activation = \"relu\"))\n",
    "    model.add(MaxPool2D(pool_size=2))\n",
    "    model.add(Conv2D(filters=hp.Int(\"conv_4_filter\",\n",
    "                                    min_value=8,\n",
    "                                    max_value=128,\n",
    "                                    step=16),\n",
    "                     kernel_size=hp.Choice(\"conv_4_kernel\", values = [3,5]),\n",
    "                     activation=\"relu\",\n",
    "                     input_shape=(256,256,1)))\n",
    "    model.add(MaxPool2D(pool_size=2))\n",
    "    model.add(Conv2D(filters=hp.Int(\"conv_5_filter\",\n",
    "                                    min_value=8,\n",
    "                                    max_value=128,\n",
    "                                    step=16),\n",
    "                     kernel_size=hp.Choice(\"conv_5_kernel\", values = [3,5]),\n",
    "                     activation=\"relu\",\n",
    "                     input_shape=(256,256,1)))\n",
    "    model.add(MaxPool2D(pool_size=2))\n",
    "    model.add(Flatten())\n",
    "    model.add(Dense(units=hp.Int(\"dense_1_units\",\n",
    "                                 min_value=0,\n",
    "                                 max_value=8192,\n",
    "                                 step=128),\n",
    "                    activation=\"relu\", \n",
    "                    kernel_regularizer=l2(hp.Float(\"l2_value_1\",\n",
    "                                                   min_value=1e-5,\n",
    "                                                   max_value=1e-2, \n",
    "                                                   sampling=\"LOG\"))))\n",
    "    model.add(Dropout(hp.Float(\"dropout_1\",\n",
    "                               min_value=0.0,\n",
    "                               max_value=0.8,\n",
    "                               step=0.1)))\n",
    "    model.add(Dense(units=hp.Int(\"dense_2_units\",\n",
    "                                 min_value=0,\n",
    "                                 max_value=224,\n",
    "                                 step=16),\n",
    "                    activation=\"relu\", \n",
    "                    kernel_regularizer=l2(hp.Float(\"l2_value_2\",\n",
    "                                                   min_value=1e-5,\n",
    "                                                   max_value=1e-2, \n",
    "                                                   sampling=\"LOG\"))))\n",
    "    model.add(Dense(units=3, activation=\"softmax\"))\n",
    "    model.compile(optimizer=Adam(hp.Choice(\"learning_rate\", values=[1e-2, 1e-3])),\n",
    "                  loss=\"categorical_crossentropy\",\n",
    "                  metrics=[\"accuracy\", f1_score])\n",
    "\n",
    "    return model"
   ]
  },
  {
   "cell_type": "code",
   "execution_count": 15,
   "id": "56fa304c-ffc3-4477-9b35-75c031d00463",
   "metadata": {},
   "outputs": [],
   "source": [
    "earlystop = EarlyStopping(monitor=\"val_loss\", patience = 4)"
   ]
  },
  {
   "cell_type": "code",
   "execution_count": 16,
   "id": "0d5beaa4-bc01-4a16-9129-b873f3d43932",
   "metadata": {},
   "outputs": [],
   "source": [
    "tuner_search = BayesianOptimization(build_model,\n",
    "                          objective=Objective(\"val_f1_score\", direction=\"max\"),\n",
    "                          max_trials=20,\n",
    "                          executions_per_trial=5,\n",
    "                          directory=\"TriclassOutput\",\n",
    "                          project_name=\"ChestXrayTriClass1\")"
   ]
  },
  {
   "cell_type": "code",
   "execution_count": null,
   "id": "6282dd42-ea84-470a-8a52-f824af70b4e1",
   "metadata": {},
   "outputs": [
    {
     "name": "stdout",
     "output_type": "stream",
     "text": [
      "Trial 2 Complete [00h 49m 47s]\n",
      "val_f1_score: 0.4608145534992218\n",
      "\n",
      "Best val_f1_score So Far: 0.4608145534992218\n",
      "Total elapsed time: 01h 22m 26s\n",
      "\n",
      "Search: Running Trial #3\n",
      "\n",
      "Value             |Best Value So Far |Hyperparameter\n",
      "120               |24                |conv_1_filter\n",
      "5                 |5                 |conv_1_kernel\n",
      "8                 |88                |conv_2_filter\n",
      "3                 |3                 |conv_2_kernel\n",
      "72                |40                |conv_3_filter\n",
      "3                 |5                 |conv_3_kernel\n",
      "120               |56                |conv_4_filter\n",
      "3                 |5                 |conv_4_kernel\n",
      "120               |40                |conv_5_filter\n",
      "3                 |5                 |conv_5_kernel\n",
      "768               |5888              |dense_1_units\n",
      "0.0035832         |4.1179e-05        |l2_value_1\n",
      "0.6               |0.4               |dropout_1\n",
      "224               |128               |dense_2_units\n",
      "3.7845e-05        |1.5391e-05        |l2_value_2\n",
      "0.01              |0.001             |learning_rate\n",
      "\n",
      "Epoch 1/3\n",
      "271/271 [==============================] - 307s 1s/step - loss: 4.2375 - accuracy: 0.5118 - f1_score: 0.2507 - val_loss: 1.7092 - val_accuracy: 0.3333 - val_f1_score: 0.0000e+00\n",
      "Epoch 2/3\n",
      "271/271 [==============================] - 304s 1s/step - loss: 1.2703 - accuracy: 0.5166 - f1_score: 0.2870 - val_loss: 1.2477 - val_accuracy: 0.3333 - val_f1_score: 0.3289\n",
      "Epoch 3/3\n",
      "271/271 [==============================] - 304s 1s/step - loss: 1.0700 - accuracy: 0.5166 - f1_score: 0.5169 - val_loss: 1.1826 - val_accuracy: 0.3333 - val_f1_score: 0.3322\n",
      "Epoch 1/3\n",
      "271/271 [==============================] - 305s 1s/step - loss: 4.1269 - accuracy: 0.5166 - f1_score: 0.3244 - val_loss: 1.8290 - val_accuracy: 0.3333 - val_f1_score: 0.3322\n",
      "Epoch 2/3\n",
      "271/271 [==============================] - 310s 1s/step - loss: 1.2941 - accuracy: 0.5166 - f1_score: 0.3604 - val_loss: 1.2297 - val_accuracy: 0.3333 - val_f1_score: 0.0000e+00\n",
      "Epoch 3/3\n",
      "271/271 [==============================] - 307s 1s/step - loss: 1.0657 - accuracy: 0.5166 - f1_score: 0.3702 - val_loss: 1.1591 - val_accuracy: 0.3333 - val_f1_score: 0.0000e+00\n",
      "Epoch 1/3\n",
      "271/271 [==============================] - 310s 1s/step - loss: 1.9909 - accuracy: 0.5097 - f1_score: 0.3078 - val_loss: 1.1874 - val_accuracy: 0.3333 - val_f1_score: 0.3322\n",
      "Epoch 2/3\n",
      "271/271 [==============================] - 311s 1s/step - loss: 1.0404 - accuracy: 0.5166 - f1_score: 0.3457 - val_loss: 1.1866 - val_accuracy: 0.3333 - val_f1_score: 0.3421\n",
      "Epoch 3/3\n",
      "271/271 [==============================] - 309s 1s/step - loss: 1.0346 - accuracy: 0.5166 - f1_score: 0.4503 - val_loss: 1.1675 - val_accuracy: 0.3333 - val_f1_score: 0.3322\n",
      "Epoch 1/3\n",
      "271/271 [==============================] - 314s 1s/step - loss: 1.8117 - accuracy: 0.5145 - f1_score: 0.3170 - val_loss: 1.1621 - val_accuracy: 0.3333 - val_f1_score: 0.0000e+00\n",
      "Epoch 2/3\n",
      "271/271 [==============================] - 315s 1s/step - loss: 1.0384 - accuracy: 0.5166 - f1_score: 0.3442 - val_loss: 1.1744 - val_accuracy: 0.3333 - val_f1_score: 0.3322\n",
      "Epoch 3/3\n",
      "146/271 [===============>..............] - ETA: 2:18 - loss: 1.0324 - accuracy: 0.5201 - f1_score: 0.4260"
     ]
    }
   ],
   "source": [
    "tuner_search.search(train_generator, epochs=3, validation_data=val_generator)"
   ]
  },
  {
   "cell_type": "code",
   "execution_count": null,
   "id": "de5d2791-5265-4aee-9396-a0860759ccb8",
   "metadata": {},
   "outputs": [],
   "source": [
    "tuner_search.search_space_summary()"
   ]
  },
  {
   "cell_type": "code",
   "execution_count": null,
   "id": "cf8c7148-83ea-43cd-9e3e-7a77fc96fbc9",
   "metadata": {},
   "outputs": [],
   "source": [
    "tuner_search.results_summary()"
   ]
  },
  {
   "cell_type": "code",
   "execution_count": null,
   "id": "8d4c9732-b0f8-4001-8a3c-963dbc068283",
   "metadata": {},
   "outputs": [],
   "source": [
    "model = tuner_search.get_best_models(num_models=1)[0]"
   ]
  },
  {
   "cell_type": "code",
   "execution_count": null,
   "id": "3e9630e4-dd87-43d8-9b40-d39fe161eba1",
   "metadata": {},
   "outputs": [],
   "source": [
    "model.summary()"
   ]
  },
  {
   "cell_type": "code",
   "execution_count": null,
   "id": "b091b900-4cad-4fa9-8cc4-655e7910e607",
   "metadata": {},
   "outputs": [],
   "source": [
    "history = model.fit(train_generator, epochs=10, validation_data=val_generator, callbacks=[earlystop])"
   ]
  },
  {
   "cell_type": "markdown",
   "id": "9d2ef0c6-a306-48e4-876c-e8596bfa9525",
   "metadata": {},
   "source": [
    "### Make a prediction"
   ]
  },
  {
   "cell_type": "code",
   "execution_count": null,
   "id": "7fb47bef-9945-4908-a012-3f2cfbbe7f31",
   "metadata": {},
   "outputs": [],
   "source": [
    "#Plot function\n",
    "def plotImages(images_arr):\n",
    "    \"\"\"\n",
    "    Plots images in a gird.\n",
    "    \"\"\"\n",
    "    fig, axes, = plt.subplots(1, 10, figsize=(20,20))\n",
    "    axes = axes.flatten()\n",
    "    for img, ax in zip(images_arr, axes):\n",
    "        ax.imshow(img, cmap='gray')\n",
    "        ax.axis(\"off\")\n",
    "    plt.tight_layout()\n",
    "    plt.show()"
   ]
  },
  {
   "cell_type": "code",
   "execution_count": null,
   "id": "90fc7fde-d2cc-48d6-9fca-b3805f86ad2c",
   "metadata": {},
   "outputs": [],
   "source": [
    "test_imgs, test_labels = next(test_generator)\n",
    "plotImages(test_imgs)\n",
    "print(test_labels)"
   ]
  },
  {
   "cell_type": "code",
   "execution_count": null,
   "id": "13739bc0-1b8f-4e36-909d-bf47644e5daa",
   "metadata": {},
   "outputs": [],
   "source": [
    "predictions = model.predict(x=test_generator, verbose=0)"
   ]
  },
  {
   "cell_type": "code",
   "execution_count": null,
   "id": "43def967-e3a9-46f1-b8ee-49b0b64b73db",
   "metadata": {},
   "outputs": [],
   "source": [
    "cm = confusion_matrix(y_true=test_generator.classes, y_pred=np.argmax(predictions, axis=-1))"
   ]
  },
  {
   "cell_type": "code",
   "execution_count": null,
   "id": "a4353396-c445-4a73-9dad-dd12960e7a9d",
   "metadata": {},
   "outputs": [],
   "source": [
    "#Confusion matrix plot function from TensorFlows website\n",
    "def plot_confusion_matrix(cm, classes, normalize=False, title=\"Confusion Matrix\", cmap=plt.cm.Blues):\n",
    "    \"\"\"\n",
    "    A function to plot results in a confusion matrix.\n",
    "    \"\"\"\n",
    "    plt.imshow(cm, interpolation=\"nearest\", cmap=cmap)\n",
    "    plt.title(title)\n",
    "    plt.colorbar()\n",
    "    tick_marks = np.arange(len(classes))\n",
    "    plt.xticks(tick_marks, classes, rotation=45)\n",
    "    plt.yticks(tick_marks, classes)\n",
    "\n",
    "    if normalize:\n",
    "        cm = cm.astype(\"float\") / cm.sum(axis=1)[:, np.newaxis]\n",
    "        print(\"Normalized confusion matrix\")\n",
    "    else:\n",
    "        print(\"Confusion matrix, without normalization\")\n",
    "\n",
    "    print(cm)\n",
    "\n",
    "    thresh = cm.max() / 2.\n",
    "    for i, j in itertools.product(range(cm.shape[0]), range(cm.shape[1])):\n",
    "        plt.text(j, i, cm[i,j], horizontalalignment=\"center\", color = \"white\" if cm[i,j] > thresh else \"black\")\n",
    "\n",
    "    plt.tight_layout()\n",
    "    plt.ylabel(\"True label\")\n",
    "    plt.xlabel(\"Predicted label\")"
   ]
  },
  {
   "cell_type": "code",
   "execution_count": null,
   "id": "0ee22042-2a0b-496d-b47a-c79590ccb271",
   "metadata": {},
   "outputs": [],
   "source": [
    "cm_plot_labels = [\"Normal\",\"viral_pneumonia\", \"bacterial_pneumonia\"]\n",
    "plot_confusion_matrix(cm=cm, classes=cm_plot_labels, title = \"Confusion Matrix\")"
   ]
  },
  {
   "cell_type": "code",
   "execution_count": null,
   "id": "08dc270a-cbd4-4828-948d-bf56310c1d33",
   "metadata": {},
   "outputs": [],
   "source": [
    "#Saving the model\n",
    "if save_model == True:\n",
    "    model.save(\"models/tri_pneumonia_detection.h5\")\n",
    "    \n",
    "if save_weights == True:\n",
    "    model.save_weights(\"models/tri_pneumonia_detection_weights.h5\")"
   ]
  },
  {
   "cell_type": "code",
   "execution_count": null,
   "id": "5d78977c-eed3-464a-9fb1-5247877c0496",
   "metadata": {},
   "outputs": [],
   "source": [
    "confusion_matrix(y_true=test_generator.classes, y_pred=np.argmax(predictions, axis=-1), normalize=\"all\")"
   ]
  },
  {
   "cell_type": "code",
   "execution_count": null,
   "id": "d66976be-8226-443a-9916-687551afd8c2",
   "metadata": {},
   "outputs": [],
   "source": [
    "print(classification_report(y_true=test_generator.classes, y_pred=np.argmax(predictions, axis=-1), target_names = cm_plot_labels))"
   ]
  },
  {
   "cell_type": "code",
   "execution_count": null,
   "id": "eae53560-0bd2-4c70-bead-29895f7c3480",
   "metadata": {},
   "outputs": [],
   "source": [
    "# Plot Training and Validation Accuracy\n",
    "plt.figure(figsize=(14,4))\n",
    "plt.subplot(1,2,1)\n",
    "plt.plot(history.history[\"accuracy\"], label=\"Training Accuracy\")\n",
    "plt.plot(history.history[\"val_accuracy\"], label=\"Validation Accuracy\")\n",
    "plt.title(\"Model Accuracy\")\n",
    "plt.xlabel(\"Epochs\")\n",
    "plt.ylabel(\"Accuracy\")\n",
    "plt.legend()\n",
    "\n",
    "# Plot Training and Validation Loss\n",
    "plt.subplot(1,2,2)\n",
    "plt.plot(history.history[\"loss\"], label=\"Train Loss\")\n",
    "plt.plot(history.history[\"val_loss\"], label=\"Validation Loss\")\n",
    "plt.title(\"Model Loss\")\n",
    "plt.xlabel(\"Epochs\")\n",
    "plt.ylabel(\"Loss\")\n",
    "plt.legend()\n",
    "\n",
    "plt.tight_layout()\n",
    "plt.show()"
   ]
  },
  {
   "cell_type": "code",
   "execution_count": null,
   "id": "d545dbb1",
   "metadata": {},
   "outputs": [],
   "source": []
  }
 ],
 "metadata": {
  "kernelspec": {
   "display_name": "Python 3 (ipykernel)",
   "language": "python",
   "name": "python3"
  },
  "language_info": {
   "codemirror_mode": {
    "name": "ipython",
    "version": 3
   },
   "file_extension": ".py",
   "mimetype": "text/x-python",
   "name": "python",
   "nbconvert_exporter": "python",
   "pygments_lexer": "ipython3",
   "version": "3.8.17"
  }
 },
 "nbformat": 4,
 "nbformat_minor": 5
}
